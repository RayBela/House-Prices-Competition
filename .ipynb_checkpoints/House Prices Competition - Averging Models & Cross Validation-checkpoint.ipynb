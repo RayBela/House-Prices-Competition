{
 "cells": [
  {
   "cell_type": "markdown",
   "metadata": {},
   "source": [
    "# House Prices Competition : Term Project "
   ]
  },
  {
   "cell_type": "markdown",
   "metadata": {},
   "source": [
    "### Importing Libraries:"
   ]
  },
  {
   "cell_type": "code",
   "execution_count": 102,
   "metadata": {},
   "outputs": [],
   "source": [
    "import pandas as pd\n",
    "import numpy as np\n",
    "import seaborn as sns\n",
    "from sklearn import linear_model\n",
    "from sklearn.decomposition import PCA\n",
    "from sklearn.metrics import mean_squared_error\n",
    "from sklearn import neighbors\n",
    "from sklearn.neural_network import MLPRegressor\n",
    "from sklearn.tree import DecisionTreeRegressor\n",
    "import warnings\n",
    "def ignore_warn(*args, **kwargs):\n",
    "    pass\n",
    "warnings.warn = ignore_warn #ignore annoying warning (from sklearn and seaborn)\n",
    "\n",
    "import matplotlib.pyplot as plt\n",
    "plt.style.use(style='ggplot')\n",
    "plt.rcParams['figure.figsize'] = (10, 6)"
   ]
  },
  {
   "cell_type": "code",
   "execution_count": 103,
   "metadata": {},
   "outputs": [],
   "source": [
    "from sklearn.pipeline import make_pipeline\n",
    "from sklearn.preprocessing import RobustScaler\n",
    "from sklearn.linear_model import ElasticNet, Lasso,  BayesianRidge, LassoLarsIC\n",
    "from sklearn.kernel_ridge import KernelRidge\n",
    "from sklearn.ensemble import RandomForestRegressor,  GradientBoostingRegressor\n",
    "import lightgbm as lgb\n"
   ]
  },
  {
   "cell_type": "code",
   "execution_count": 104,
   "metadata": {},
   "outputs": [],
   "source": [
    "# getting data from feature engineering notebook\n",
    "%store -r train_set_1\n",
    "%store -r test_set_1\n",
    "%store -r ytrain_1\n",
    "\n",
    "test = pd.read_csv(\"test.csv\")\n",
    "\n",
    "train_set = train_set_1\n",
    "test_set = test_set_1"
   ]
  },
  {
   "cell_type": "code",
   "execution_count": 105,
   "metadata": {},
   "outputs": [
    {
     "data": {
      "text/html": [
       "<div>\n",
       "<style>\n",
       "    .dataframe thead tr:only-child th {\n",
       "        text-align: right;\n",
       "    }\n",
       "\n",
       "    .dataframe thead th {\n",
       "        text-align: left;\n",
       "    }\n",
       "\n",
       "    .dataframe tbody tr th {\n",
       "        vertical-align: top;\n",
       "    }\n",
       "</style>\n",
       "<table border=\"1\" class=\"dataframe\">\n",
       "  <thead>\n",
       "    <tr style=\"text-align: right;\">\n",
       "      <th></th>\n",
       "      <th>1stFlrSF</th>\n",
       "      <th>2ndFlrSF</th>\n",
       "      <th>3SsnPorch</th>\n",
       "      <th>Alley</th>\n",
       "      <th>BedroomAbvGr</th>\n",
       "      <th>BsmtFinSF1</th>\n",
       "      <th>BsmtFinSF2</th>\n",
       "      <th>BsmtFullBath</th>\n",
       "      <th>BsmtHalfBath</th>\n",
       "      <th>BsmtUnfSF</th>\n",
       "      <th>...</th>\n",
       "      <th>SaleType_CWD</th>\n",
       "      <th>SaleType_Con</th>\n",
       "      <th>SaleType_ConLD</th>\n",
       "      <th>SaleType_ConLI</th>\n",
       "      <th>SaleType_ConLw</th>\n",
       "      <th>SaleType_New</th>\n",
       "      <th>SaleType_Oth</th>\n",
       "      <th>SaleType_WD</th>\n",
       "      <th>Street_Grvl</th>\n",
       "      <th>Street_Pave</th>\n",
       "    </tr>\n",
       "  </thead>\n",
       "  <tbody>\n",
       "    <tr>\n",
       "      <th>0</th>\n",
       "      <td>856</td>\n",
       "      <td>854</td>\n",
       "      <td>0</td>\n",
       "      <td>0</td>\n",
       "      <td>3</td>\n",
       "      <td>706.0</td>\n",
       "      <td>0.0</td>\n",
       "      <td>1.0</td>\n",
       "      <td>0</td>\n",
       "      <td>150.0</td>\n",
       "      <td>...</td>\n",
       "      <td>0</td>\n",
       "      <td>0</td>\n",
       "      <td>0</td>\n",
       "      <td>0</td>\n",
       "      <td>0</td>\n",
       "      <td>0</td>\n",
       "      <td>0</td>\n",
       "      <td>1</td>\n",
       "      <td>0</td>\n",
       "      <td>1</td>\n",
       "    </tr>\n",
       "    <tr>\n",
       "      <th>1</th>\n",
       "      <td>1262</td>\n",
       "      <td>0</td>\n",
       "      <td>0</td>\n",
       "      <td>0</td>\n",
       "      <td>3</td>\n",
       "      <td>978.0</td>\n",
       "      <td>0.0</td>\n",
       "      <td>0.0</td>\n",
       "      <td>1</td>\n",
       "      <td>284.0</td>\n",
       "      <td>...</td>\n",
       "      <td>0</td>\n",
       "      <td>0</td>\n",
       "      <td>0</td>\n",
       "      <td>0</td>\n",
       "      <td>0</td>\n",
       "      <td>0</td>\n",
       "      <td>0</td>\n",
       "      <td>1</td>\n",
       "      <td>0</td>\n",
       "      <td>1</td>\n",
       "    </tr>\n",
       "    <tr>\n",
       "      <th>2</th>\n",
       "      <td>920</td>\n",
       "      <td>866</td>\n",
       "      <td>0</td>\n",
       "      <td>0</td>\n",
       "      <td>3</td>\n",
       "      <td>486.0</td>\n",
       "      <td>0.0</td>\n",
       "      <td>1.0</td>\n",
       "      <td>0</td>\n",
       "      <td>434.0</td>\n",
       "      <td>...</td>\n",
       "      <td>0</td>\n",
       "      <td>0</td>\n",
       "      <td>0</td>\n",
       "      <td>0</td>\n",
       "      <td>0</td>\n",
       "      <td>0</td>\n",
       "      <td>0</td>\n",
       "      <td>1</td>\n",
       "      <td>0</td>\n",
       "      <td>1</td>\n",
       "    </tr>\n",
       "    <tr>\n",
       "      <th>3</th>\n",
       "      <td>961</td>\n",
       "      <td>756</td>\n",
       "      <td>0</td>\n",
       "      <td>0</td>\n",
       "      <td>3</td>\n",
       "      <td>216.0</td>\n",
       "      <td>0.0</td>\n",
       "      <td>1.0</td>\n",
       "      <td>0</td>\n",
       "      <td>540.0</td>\n",
       "      <td>...</td>\n",
       "      <td>0</td>\n",
       "      <td>0</td>\n",
       "      <td>0</td>\n",
       "      <td>0</td>\n",
       "      <td>0</td>\n",
       "      <td>0</td>\n",
       "      <td>0</td>\n",
       "      <td>1</td>\n",
       "      <td>0</td>\n",
       "      <td>1</td>\n",
       "    </tr>\n",
       "    <tr>\n",
       "      <th>4</th>\n",
       "      <td>1145</td>\n",
       "      <td>1053</td>\n",
       "      <td>0</td>\n",
       "      <td>0</td>\n",
       "      <td>4</td>\n",
       "      <td>655.0</td>\n",
       "      <td>0.0</td>\n",
       "      <td>1.0</td>\n",
       "      <td>0</td>\n",
       "      <td>490.0</td>\n",
       "      <td>...</td>\n",
       "      <td>0</td>\n",
       "      <td>0</td>\n",
       "      <td>0</td>\n",
       "      <td>0</td>\n",
       "      <td>0</td>\n",
       "      <td>0</td>\n",
       "      <td>0</td>\n",
       "      <td>1</td>\n",
       "      <td>0</td>\n",
       "      <td>1</td>\n",
       "    </tr>\n",
       "  </tbody>\n",
       "</table>\n",
       "<p>5 rows × 291 columns</p>\n",
       "</div>"
      ],
      "text/plain": [
       "   1stFlrSF  2ndFlrSF  3SsnPorch  Alley  BedroomAbvGr  BsmtFinSF1  BsmtFinSF2  \\\n",
       "0       856       854          0      0             3       706.0         0.0   \n",
       "1      1262         0          0      0             3       978.0         0.0   \n",
       "2       920       866          0      0             3       486.0         0.0   \n",
       "3       961       756          0      0             3       216.0         0.0   \n",
       "4      1145      1053          0      0             4       655.0         0.0   \n",
       "\n",
       "   BsmtFullBath  BsmtHalfBath  BsmtUnfSF     ...       SaleType_CWD  \\\n",
       "0           1.0             0      150.0     ...                  0   \n",
       "1           0.0             1      284.0     ...                  0   \n",
       "2           1.0             0      434.0     ...                  0   \n",
       "3           1.0             0      540.0     ...                  0   \n",
       "4           1.0             0      490.0     ...                  0   \n",
       "\n",
       "   SaleType_Con  SaleType_ConLD  SaleType_ConLI  SaleType_ConLw  SaleType_New  \\\n",
       "0             0               0               0               0             0   \n",
       "1             0               0               0               0             0   \n",
       "2             0               0               0               0             0   \n",
       "3             0               0               0               0             0   \n",
       "4             0               0               0               0             0   \n",
       "\n",
       "   SaleType_Oth  SaleType_WD  Street_Grvl  Street_Pave  \n",
       "0             0            1            0            1  \n",
       "1             0            1            0            1  \n",
       "2             0            1            0            1  \n",
       "3             0            1            0            1  \n",
       "4             0            1            0            1  \n",
       "\n",
       "[5 rows x 291 columns]"
      ]
     },
     "execution_count": 105,
     "metadata": {},
     "output_type": "execute_result"
    }
   ],
   "source": [
    "train_set.head()"
   ]
  },
  {
   "cell_type": "code",
   "execution_count": 106,
   "metadata": {},
   "outputs": [
    {
     "name": "stdout",
     "output_type": "stream",
     "text": [
      "Train data shape: (1452, 291)\n"
     ]
    }
   ],
   "source": [
    "print (\"Train data shape:\", train_set.shape)"
   ]
  },
  {
   "cell_type": "code",
   "execution_count": 107,
   "metadata": {},
   "outputs": [
    {
     "data": {
      "text/html": [
       "<div>\n",
       "<style>\n",
       "    .dataframe thead tr:only-child th {\n",
       "        text-align: right;\n",
       "    }\n",
       "\n",
       "    .dataframe thead th {\n",
       "        text-align: left;\n",
       "    }\n",
       "\n",
       "    .dataframe tbody tr th {\n",
       "        vertical-align: top;\n",
       "    }\n",
       "</style>\n",
       "<table border=\"1\" class=\"dataframe\">\n",
       "  <thead>\n",
       "    <tr style=\"text-align: right;\">\n",
       "      <th></th>\n",
       "      <th>1stFlrSF</th>\n",
       "      <th>2ndFlrSF</th>\n",
       "      <th>3SsnPorch</th>\n",
       "      <th>Alley</th>\n",
       "      <th>BedroomAbvGr</th>\n",
       "      <th>BsmtFinSF1</th>\n",
       "      <th>BsmtFinSF2</th>\n",
       "      <th>BsmtFullBath</th>\n",
       "      <th>BsmtHalfBath</th>\n",
       "      <th>BsmtUnfSF</th>\n",
       "      <th>...</th>\n",
       "      <th>SaleType_CWD</th>\n",
       "      <th>SaleType_Con</th>\n",
       "      <th>SaleType_ConLD</th>\n",
       "      <th>SaleType_ConLI</th>\n",
       "      <th>SaleType_ConLw</th>\n",
       "      <th>SaleType_New</th>\n",
       "      <th>SaleType_Oth</th>\n",
       "      <th>SaleType_WD</th>\n",
       "      <th>Street_Grvl</th>\n",
       "      <th>Street_Pave</th>\n",
       "    </tr>\n",
       "  </thead>\n",
       "  <tbody>\n",
       "    <tr>\n",
       "      <th>1452</th>\n",
       "      <td>896</td>\n",
       "      <td>0</td>\n",
       "      <td>0</td>\n",
       "      <td>0</td>\n",
       "      <td>2</td>\n",
       "      <td>468.0</td>\n",
       "      <td>144.0</td>\n",
       "      <td>0.0</td>\n",
       "      <td>0</td>\n",
       "      <td>270.0</td>\n",
       "      <td>...</td>\n",
       "      <td>0</td>\n",
       "      <td>0</td>\n",
       "      <td>0</td>\n",
       "      <td>0</td>\n",
       "      <td>0</td>\n",
       "      <td>0</td>\n",
       "      <td>0</td>\n",
       "      <td>1</td>\n",
       "      <td>0</td>\n",
       "      <td>1</td>\n",
       "    </tr>\n",
       "    <tr>\n",
       "      <th>1453</th>\n",
       "      <td>1329</td>\n",
       "      <td>0</td>\n",
       "      <td>0</td>\n",
       "      <td>0</td>\n",
       "      <td>3</td>\n",
       "      <td>923.0</td>\n",
       "      <td>0.0</td>\n",
       "      <td>0.0</td>\n",
       "      <td>0</td>\n",
       "      <td>406.0</td>\n",
       "      <td>...</td>\n",
       "      <td>0</td>\n",
       "      <td>0</td>\n",
       "      <td>0</td>\n",
       "      <td>0</td>\n",
       "      <td>0</td>\n",
       "      <td>0</td>\n",
       "      <td>0</td>\n",
       "      <td>1</td>\n",
       "      <td>0</td>\n",
       "      <td>1</td>\n",
       "    </tr>\n",
       "    <tr>\n",
       "      <th>1454</th>\n",
       "      <td>928</td>\n",
       "      <td>701</td>\n",
       "      <td>0</td>\n",
       "      <td>0</td>\n",
       "      <td>3</td>\n",
       "      <td>791.0</td>\n",
       "      <td>0.0</td>\n",
       "      <td>0.0</td>\n",
       "      <td>0</td>\n",
       "      <td>137.0</td>\n",
       "      <td>...</td>\n",
       "      <td>0</td>\n",
       "      <td>0</td>\n",
       "      <td>0</td>\n",
       "      <td>0</td>\n",
       "      <td>0</td>\n",
       "      <td>0</td>\n",
       "      <td>0</td>\n",
       "      <td>1</td>\n",
       "      <td>0</td>\n",
       "      <td>1</td>\n",
       "    </tr>\n",
       "    <tr>\n",
       "      <th>1455</th>\n",
       "      <td>926</td>\n",
       "      <td>678</td>\n",
       "      <td>0</td>\n",
       "      <td>0</td>\n",
       "      <td>3</td>\n",
       "      <td>602.0</td>\n",
       "      <td>0.0</td>\n",
       "      <td>0.0</td>\n",
       "      <td>0</td>\n",
       "      <td>324.0</td>\n",
       "      <td>...</td>\n",
       "      <td>0</td>\n",
       "      <td>0</td>\n",
       "      <td>0</td>\n",
       "      <td>0</td>\n",
       "      <td>0</td>\n",
       "      <td>0</td>\n",
       "      <td>0</td>\n",
       "      <td>1</td>\n",
       "      <td>0</td>\n",
       "      <td>1</td>\n",
       "    </tr>\n",
       "    <tr>\n",
       "      <th>1456</th>\n",
       "      <td>1280</td>\n",
       "      <td>0</td>\n",
       "      <td>0</td>\n",
       "      <td>0</td>\n",
       "      <td>2</td>\n",
       "      <td>263.0</td>\n",
       "      <td>0.0</td>\n",
       "      <td>0.0</td>\n",
       "      <td>0</td>\n",
       "      <td>1017.0</td>\n",
       "      <td>...</td>\n",
       "      <td>0</td>\n",
       "      <td>0</td>\n",
       "      <td>0</td>\n",
       "      <td>0</td>\n",
       "      <td>0</td>\n",
       "      <td>0</td>\n",
       "      <td>0</td>\n",
       "      <td>1</td>\n",
       "      <td>0</td>\n",
       "      <td>1</td>\n",
       "    </tr>\n",
       "  </tbody>\n",
       "</table>\n",
       "<p>5 rows × 291 columns</p>\n",
       "</div>"
      ],
      "text/plain": [
       "      1stFlrSF  2ndFlrSF  3SsnPorch  Alley  BedroomAbvGr  BsmtFinSF1  \\\n",
       "1452       896         0          0      0             2       468.0   \n",
       "1453      1329         0          0      0             3       923.0   \n",
       "1454       928       701          0      0             3       791.0   \n",
       "1455       926       678          0      0             3       602.0   \n",
       "1456      1280         0          0      0             2       263.0   \n",
       "\n",
       "      BsmtFinSF2  BsmtFullBath  BsmtHalfBath  BsmtUnfSF     ...       \\\n",
       "1452       144.0           0.0             0      270.0     ...        \n",
       "1453         0.0           0.0             0      406.0     ...        \n",
       "1454         0.0           0.0             0      137.0     ...        \n",
       "1455         0.0           0.0             0      324.0     ...        \n",
       "1456         0.0           0.0             0     1017.0     ...        \n",
       "\n",
       "      SaleType_CWD  SaleType_Con  SaleType_ConLD  SaleType_ConLI  \\\n",
       "1452             0             0               0               0   \n",
       "1453             0             0               0               0   \n",
       "1454             0             0               0               0   \n",
       "1455             0             0               0               0   \n",
       "1456             0             0               0               0   \n",
       "\n",
       "      SaleType_ConLw  SaleType_New  SaleType_Oth  SaleType_WD  Street_Grvl  \\\n",
       "1452               0             0             0            1            0   \n",
       "1453               0             0             0            1            0   \n",
       "1454               0             0             0            1            0   \n",
       "1455               0             0             0            1            0   \n",
       "1456               0             0             0            1            0   \n",
       "\n",
       "      Street_Pave  \n",
       "1452            1  \n",
       "1453            1  \n",
       "1454            1  \n",
       "1455            1  \n",
       "1456            1  \n",
       "\n",
       "[5 rows x 291 columns]"
      ]
     },
     "execution_count": 107,
     "metadata": {},
     "output_type": "execute_result"
    }
   ],
   "source": [
    "test_set.head()"
   ]
  },
  {
   "cell_type": "code",
   "execution_count": 108,
   "metadata": {},
   "outputs": [
    {
     "name": "stdout",
     "output_type": "stream",
     "text": [
      "Test data shape: (1459, 291)\n"
     ]
    }
   ],
   "source": [
    "print (\"Test data shape:\", test_set.shape)\n"
   ]
  },
  {
   "cell_type": "markdown",
   "metadata": {},
   "source": [
    "## Building the model:"
   ]
  },
  {
   "cell_type": "code",
   "execution_count": 109,
   "metadata": {},
   "outputs": [
    {
     "data": {
      "text/html": [
       "<div>\n",
       "<style>\n",
       "    .dataframe thead tr:only-child th {\n",
       "        text-align: right;\n",
       "    }\n",
       "\n",
       "    .dataframe thead th {\n",
       "        text-align: left;\n",
       "    }\n",
       "\n",
       "    .dataframe tbody tr th {\n",
       "        vertical-align: top;\n",
       "    }\n",
       "</style>\n",
       "<table border=\"1\" class=\"dataframe\">\n",
       "  <thead>\n",
       "    <tr style=\"text-align: right;\">\n",
       "      <th></th>\n",
       "      <th>1stFlrSF</th>\n",
       "      <th>2ndFlrSF</th>\n",
       "      <th>3SsnPorch</th>\n",
       "      <th>Alley</th>\n",
       "      <th>BedroomAbvGr</th>\n",
       "      <th>BsmtFinSF1</th>\n",
       "      <th>BsmtFinSF2</th>\n",
       "      <th>BsmtFullBath</th>\n",
       "      <th>BsmtHalfBath</th>\n",
       "      <th>BsmtUnfSF</th>\n",
       "      <th>...</th>\n",
       "      <th>SaleType_CWD</th>\n",
       "      <th>SaleType_Con</th>\n",
       "      <th>SaleType_ConLD</th>\n",
       "      <th>SaleType_ConLI</th>\n",
       "      <th>SaleType_ConLw</th>\n",
       "      <th>SaleType_New</th>\n",
       "      <th>SaleType_Oth</th>\n",
       "      <th>SaleType_WD</th>\n",
       "      <th>Street_Grvl</th>\n",
       "      <th>Street_Pave</th>\n",
       "    </tr>\n",
       "  </thead>\n",
       "  <tbody>\n",
       "    <tr>\n",
       "      <th>0</th>\n",
       "      <td>856</td>\n",
       "      <td>854</td>\n",
       "      <td>0</td>\n",
       "      <td>0</td>\n",
       "      <td>3</td>\n",
       "      <td>706.0</td>\n",
       "      <td>0.0</td>\n",
       "      <td>1.0</td>\n",
       "      <td>0</td>\n",
       "      <td>150.0</td>\n",
       "      <td>...</td>\n",
       "      <td>0</td>\n",
       "      <td>0</td>\n",
       "      <td>0</td>\n",
       "      <td>0</td>\n",
       "      <td>0</td>\n",
       "      <td>0</td>\n",
       "      <td>0</td>\n",
       "      <td>1</td>\n",
       "      <td>0</td>\n",
       "      <td>1</td>\n",
       "    </tr>\n",
       "    <tr>\n",
       "      <th>1</th>\n",
       "      <td>1262</td>\n",
       "      <td>0</td>\n",
       "      <td>0</td>\n",
       "      <td>0</td>\n",
       "      <td>3</td>\n",
       "      <td>978.0</td>\n",
       "      <td>0.0</td>\n",
       "      <td>0.0</td>\n",
       "      <td>1</td>\n",
       "      <td>284.0</td>\n",
       "      <td>...</td>\n",
       "      <td>0</td>\n",
       "      <td>0</td>\n",
       "      <td>0</td>\n",
       "      <td>0</td>\n",
       "      <td>0</td>\n",
       "      <td>0</td>\n",
       "      <td>0</td>\n",
       "      <td>1</td>\n",
       "      <td>0</td>\n",
       "      <td>1</td>\n",
       "    </tr>\n",
       "    <tr>\n",
       "      <th>2</th>\n",
       "      <td>920</td>\n",
       "      <td>866</td>\n",
       "      <td>0</td>\n",
       "      <td>0</td>\n",
       "      <td>3</td>\n",
       "      <td>486.0</td>\n",
       "      <td>0.0</td>\n",
       "      <td>1.0</td>\n",
       "      <td>0</td>\n",
       "      <td>434.0</td>\n",
       "      <td>...</td>\n",
       "      <td>0</td>\n",
       "      <td>0</td>\n",
       "      <td>0</td>\n",
       "      <td>0</td>\n",
       "      <td>0</td>\n",
       "      <td>0</td>\n",
       "      <td>0</td>\n",
       "      <td>1</td>\n",
       "      <td>0</td>\n",
       "      <td>1</td>\n",
       "    </tr>\n",
       "    <tr>\n",
       "      <th>3</th>\n",
       "      <td>961</td>\n",
       "      <td>756</td>\n",
       "      <td>0</td>\n",
       "      <td>0</td>\n",
       "      <td>3</td>\n",
       "      <td>216.0</td>\n",
       "      <td>0.0</td>\n",
       "      <td>1.0</td>\n",
       "      <td>0</td>\n",
       "      <td>540.0</td>\n",
       "      <td>...</td>\n",
       "      <td>0</td>\n",
       "      <td>0</td>\n",
       "      <td>0</td>\n",
       "      <td>0</td>\n",
       "      <td>0</td>\n",
       "      <td>0</td>\n",
       "      <td>0</td>\n",
       "      <td>1</td>\n",
       "      <td>0</td>\n",
       "      <td>1</td>\n",
       "    </tr>\n",
       "    <tr>\n",
       "      <th>4</th>\n",
       "      <td>1145</td>\n",
       "      <td>1053</td>\n",
       "      <td>0</td>\n",
       "      <td>0</td>\n",
       "      <td>4</td>\n",
       "      <td>655.0</td>\n",
       "      <td>0.0</td>\n",
       "      <td>1.0</td>\n",
       "      <td>0</td>\n",
       "      <td>490.0</td>\n",
       "      <td>...</td>\n",
       "      <td>0</td>\n",
       "      <td>0</td>\n",
       "      <td>0</td>\n",
       "      <td>0</td>\n",
       "      <td>0</td>\n",
       "      <td>0</td>\n",
       "      <td>0</td>\n",
       "      <td>1</td>\n",
       "      <td>0</td>\n",
       "      <td>1</td>\n",
       "    </tr>\n",
       "  </tbody>\n",
       "</table>\n",
       "<p>5 rows × 291 columns</p>\n",
       "</div>"
      ],
      "text/plain": [
       "   1stFlrSF  2ndFlrSF  3SsnPorch  Alley  BedroomAbvGr  BsmtFinSF1  BsmtFinSF2  \\\n",
       "0       856       854          0      0             3       706.0         0.0   \n",
       "1      1262         0          0      0             3       978.0         0.0   \n",
       "2       920       866          0      0             3       486.0         0.0   \n",
       "3       961       756          0      0             3       216.0         0.0   \n",
       "4      1145      1053          0      0             4       655.0         0.0   \n",
       "\n",
       "   BsmtFullBath  BsmtHalfBath  BsmtUnfSF     ...       SaleType_CWD  \\\n",
       "0           1.0             0      150.0     ...                  0   \n",
       "1           0.0             1      284.0     ...                  0   \n",
       "2           1.0             0      434.0     ...                  0   \n",
       "3           1.0             0      540.0     ...                  0   \n",
       "4           1.0             0      490.0     ...                  0   \n",
       "\n",
       "   SaleType_Con  SaleType_ConLD  SaleType_ConLI  SaleType_ConLw  SaleType_New  \\\n",
       "0             0               0               0               0             0   \n",
       "1             0               0               0               0             0   \n",
       "2             0               0               0               0             0   \n",
       "3             0               0               0               0             0   \n",
       "4             0               0               0               0             0   \n",
       "\n",
       "   SaleType_Oth  SaleType_WD  Street_Grvl  Street_Pave  \n",
       "0             0            1            0            1  \n",
       "1             0            1            0            1  \n",
       "2             0            1            0            1  \n",
       "3             0            1            0            1  \n",
       "4             0            1            0            1  \n",
       "\n",
       "[5 rows x 291 columns]"
      ]
     },
     "execution_count": 109,
     "metadata": {},
     "output_type": "execute_result"
    }
   ],
   "source": [
    "train_set = train_set.select_dtypes(include=[np.number]).interpolate().dropna()\n",
    "test_set = test_set.select_dtypes(include=[np.number]).interpolate().dropna()\n",
    "train_set.head(5)"
   ]
  },
  {
   "cell_type": "code",
   "execution_count": 110,
   "metadata": {},
   "outputs": [
    {
     "data": {
      "text/html": [
       "<div>\n",
       "<style>\n",
       "    .dataframe thead tr:only-child th {\n",
       "        text-align: right;\n",
       "    }\n",
       "\n",
       "    .dataframe thead th {\n",
       "        text-align: left;\n",
       "    }\n",
       "\n",
       "    .dataframe tbody tr th {\n",
       "        vertical-align: top;\n",
       "    }\n",
       "</style>\n",
       "<table border=\"1\" class=\"dataframe\">\n",
       "  <thead>\n",
       "    <tr style=\"text-align: right;\">\n",
       "      <th></th>\n",
       "      <th>1stFlrSF</th>\n",
       "      <th>2ndFlrSF</th>\n",
       "      <th>3SsnPorch</th>\n",
       "      <th>Alley</th>\n",
       "      <th>BedroomAbvGr</th>\n",
       "      <th>BsmtFinSF1</th>\n",
       "      <th>BsmtFinSF2</th>\n",
       "      <th>BsmtFullBath</th>\n",
       "      <th>BsmtHalfBath</th>\n",
       "      <th>BsmtUnfSF</th>\n",
       "      <th>...</th>\n",
       "      <th>SaleType_CWD</th>\n",
       "      <th>SaleType_Con</th>\n",
       "      <th>SaleType_ConLD</th>\n",
       "      <th>SaleType_ConLI</th>\n",
       "      <th>SaleType_ConLw</th>\n",
       "      <th>SaleType_New</th>\n",
       "      <th>SaleType_Oth</th>\n",
       "      <th>SaleType_WD</th>\n",
       "      <th>Street_Grvl</th>\n",
       "      <th>Street_Pave</th>\n",
       "    </tr>\n",
       "  </thead>\n",
       "  <tbody>\n",
       "    <tr>\n",
       "      <th>1452</th>\n",
       "      <td>896</td>\n",
       "      <td>0</td>\n",
       "      <td>0</td>\n",
       "      <td>0</td>\n",
       "      <td>2</td>\n",
       "      <td>468.0</td>\n",
       "      <td>144.0</td>\n",
       "      <td>0.0</td>\n",
       "      <td>0</td>\n",
       "      <td>270.0</td>\n",
       "      <td>...</td>\n",
       "      <td>0</td>\n",
       "      <td>0</td>\n",
       "      <td>0</td>\n",
       "      <td>0</td>\n",
       "      <td>0</td>\n",
       "      <td>0</td>\n",
       "      <td>0</td>\n",
       "      <td>1</td>\n",
       "      <td>0</td>\n",
       "      <td>1</td>\n",
       "    </tr>\n",
       "    <tr>\n",
       "      <th>1453</th>\n",
       "      <td>1329</td>\n",
       "      <td>0</td>\n",
       "      <td>0</td>\n",
       "      <td>0</td>\n",
       "      <td>3</td>\n",
       "      <td>923.0</td>\n",
       "      <td>0.0</td>\n",
       "      <td>0.0</td>\n",
       "      <td>0</td>\n",
       "      <td>406.0</td>\n",
       "      <td>...</td>\n",
       "      <td>0</td>\n",
       "      <td>0</td>\n",
       "      <td>0</td>\n",
       "      <td>0</td>\n",
       "      <td>0</td>\n",
       "      <td>0</td>\n",
       "      <td>0</td>\n",
       "      <td>1</td>\n",
       "      <td>0</td>\n",
       "      <td>1</td>\n",
       "    </tr>\n",
       "    <tr>\n",
       "      <th>1454</th>\n",
       "      <td>928</td>\n",
       "      <td>701</td>\n",
       "      <td>0</td>\n",
       "      <td>0</td>\n",
       "      <td>3</td>\n",
       "      <td>791.0</td>\n",
       "      <td>0.0</td>\n",
       "      <td>0.0</td>\n",
       "      <td>0</td>\n",
       "      <td>137.0</td>\n",
       "      <td>...</td>\n",
       "      <td>0</td>\n",
       "      <td>0</td>\n",
       "      <td>0</td>\n",
       "      <td>0</td>\n",
       "      <td>0</td>\n",
       "      <td>0</td>\n",
       "      <td>0</td>\n",
       "      <td>1</td>\n",
       "      <td>0</td>\n",
       "      <td>1</td>\n",
       "    </tr>\n",
       "    <tr>\n",
       "      <th>1455</th>\n",
       "      <td>926</td>\n",
       "      <td>678</td>\n",
       "      <td>0</td>\n",
       "      <td>0</td>\n",
       "      <td>3</td>\n",
       "      <td>602.0</td>\n",
       "      <td>0.0</td>\n",
       "      <td>0.0</td>\n",
       "      <td>0</td>\n",
       "      <td>324.0</td>\n",
       "      <td>...</td>\n",
       "      <td>0</td>\n",
       "      <td>0</td>\n",
       "      <td>0</td>\n",
       "      <td>0</td>\n",
       "      <td>0</td>\n",
       "      <td>0</td>\n",
       "      <td>0</td>\n",
       "      <td>1</td>\n",
       "      <td>0</td>\n",
       "      <td>1</td>\n",
       "    </tr>\n",
       "    <tr>\n",
       "      <th>1456</th>\n",
       "      <td>1280</td>\n",
       "      <td>0</td>\n",
       "      <td>0</td>\n",
       "      <td>0</td>\n",
       "      <td>2</td>\n",
       "      <td>263.0</td>\n",
       "      <td>0.0</td>\n",
       "      <td>0.0</td>\n",
       "      <td>0</td>\n",
       "      <td>1017.0</td>\n",
       "      <td>...</td>\n",
       "      <td>0</td>\n",
       "      <td>0</td>\n",
       "      <td>0</td>\n",
       "      <td>0</td>\n",
       "      <td>0</td>\n",
       "      <td>0</td>\n",
       "      <td>0</td>\n",
       "      <td>1</td>\n",
       "      <td>0</td>\n",
       "      <td>1</td>\n",
       "    </tr>\n",
       "  </tbody>\n",
       "</table>\n",
       "<p>5 rows × 291 columns</p>\n",
       "</div>"
      ],
      "text/plain": [
       "      1stFlrSF  2ndFlrSF  3SsnPorch  Alley  BedroomAbvGr  BsmtFinSF1  \\\n",
       "1452       896         0          0      0             2       468.0   \n",
       "1453      1329         0          0      0             3       923.0   \n",
       "1454       928       701          0      0             3       791.0   \n",
       "1455       926       678          0      0             3       602.0   \n",
       "1456      1280         0          0      0             2       263.0   \n",
       "\n",
       "      BsmtFinSF2  BsmtFullBath  BsmtHalfBath  BsmtUnfSF     ...       \\\n",
       "1452       144.0           0.0             0      270.0     ...        \n",
       "1453         0.0           0.0             0      406.0     ...        \n",
       "1454         0.0           0.0             0      137.0     ...        \n",
       "1455         0.0           0.0             0      324.0     ...        \n",
       "1456         0.0           0.0             0     1017.0     ...        \n",
       "\n",
       "      SaleType_CWD  SaleType_Con  SaleType_ConLD  SaleType_ConLI  \\\n",
       "1452             0             0               0               0   \n",
       "1453             0             0               0               0   \n",
       "1454             0             0               0               0   \n",
       "1455             0             0               0               0   \n",
       "1456             0             0               0               0   \n",
       "\n",
       "      SaleType_ConLw  SaleType_New  SaleType_Oth  SaleType_WD  Street_Grvl  \\\n",
       "1452               0             0             0            1            0   \n",
       "1453               0             0             0            1            0   \n",
       "1454               0             0             0            1            0   \n",
       "1455               0             0             0            1            0   \n",
       "1456               0             0             0            1            0   \n",
       "\n",
       "      Street_Pave  \n",
       "1452            1  \n",
       "1453            1  \n",
       "1454            1  \n",
       "1455            1  \n",
       "1456            1  \n",
       "\n",
       "[5 rows x 291 columns]"
      ]
     },
     "execution_count": 110,
     "metadata": {},
     "output_type": "execute_result"
    }
   ],
   "source": [
    "test_set.head(5)"
   ]
  },
  {
   "cell_type": "code",
   "execution_count": 111,
   "metadata": {},
   "outputs": [],
   "source": [
    "# apply log to have 0 skew\n",
    "test_ID = test[\"Id\"]\n",
    "y = np.log(ytrain_1)\n",
    "X = train_set#.drop(['SalePrice'], axis=1)"
   ]
  },
  {
   "cell_type": "markdown",
   "metadata": {},
   "source": [
    "### PCA:"
   ]
  },
  {
   "cell_type": "code",
   "execution_count": 112,
   "metadata": {},
   "outputs": [
    {
     "data": {
      "text/plain": [
       "array([ 1.0736579 ,  1.03167675,  1.02673249,  1.02388893,  1.02276856,\n",
       "        1.01835777,  1.01627425,  1.01571856,  1.01227279,  1.01219373,\n",
       "        1.01183313,  1.01121734,  1.01068471,  1.01009807,  1.00991963,\n",
       "        1.00967788,  1.0093183 ,  1.0090842 ,  1.00888568,  1.00856901,\n",
       "        1.00840546,  1.00805222,  1.00798035,  1.00793523,  1.0078155 ,\n",
       "        1.00767133,  1.0074948 ,  1.00746451,  1.00728964,  1.00713671])"
      ]
     },
     "execution_count": 112,
     "metadata": {},
     "output_type": "execute_result"
    }
   ],
   "source": [
    "from sklearn.preprocessing import StandardScaler\n",
    "\n",
    "scaler = StandardScaler()\n",
    "scaler.fit(X)                \n",
    "t_train = scaler.transform(X)\n",
    "pca_hp = PCA(30)\n",
    "x_fit = pca_hp.fit_transform(t_train)\n",
    "np.exp(pca_hp.explained_variance_ratio_)"
   ]
  },
  {
   "cell_type": "markdown",
   "metadata": {},
   "source": [
    "train_test_split() returns four objects:\n",
    "\n",
    "* X_train is the subset of our features used for training.\n",
    "* X_test is the subset which will be our 'hold-out' set - what we'll use to test the model.\n",
    "* y_train is the target variable SalePrice which corresponds to X_train.\n",
    "* y_test is the target variable SalePrice which corresponds to X_test. \n",
    "\n",
    "random_state=42 allow reproducible results."
   ]
  },
  {
   "cell_type": "code",
   "execution_count": 113,
   "metadata": {},
   "outputs": [],
   "source": [
    "# from sklearn.model_selection import train_test_split\n",
    "\n",
    "# X_train, X_test, y_train, y_test = train_test_split(\n",
    "                                   # X, y, random_state=42, test_size=.33)\n",
    "\n",
    "# X_train1, X_test1, y_train1, y_test1 = train_test_split(\n",
    "                                   # x_fit, y, random_state=42, test_size=.33)\n",
    "    \n",
    "from sklearn.cross_validation import train_test_split\n",
    "X_train, X_test, y_train, y_test = train_test_split(X, y, test_size=0.33, random_state=42)\n",
    "\n",
    "from sklearn.cross_validation import KFold, cross_val_score, cross_val_predict\n",
    "k_fold = KFold(len(y), n_folds=10, shuffle=True, random_state=0)"
   ]
  },
  {
   "cell_type": "markdown",
   "metadata": {},
   "source": [
    "### Random Forest:"
   ]
  },
  {
   "cell_type": "code",
   "execution_count": 114,
   "metadata": {
    "scrolled": true
   },
   "outputs": [
    {
     "name": "stdout",
     "output_type": "stream",
     "text": [
      "Test score is: \n",
      " 0.875852404421\n",
      "Cross validation test scores are: \n",
      " [ 0.84573491  0.87476335  0.82467794  0.87904882  0.74409852]\n",
      "Cross validation test scores mean is: \n",
      " 0.833664706943\n"
     ]
    }
   ],
   "source": [
    "from sklearn.ensemble import RandomForestRegressor\n",
    "\n",
    "# Fit Random Forest on Training Set\n",
    "regressor = RandomForestRegressor(n_estimators=300, random_state=0)\n",
    "model_random_forest = regressor.fit(X_train, y_train)\n",
    "\n",
    "\n",
    "# Score model\n",
    "cross_valid_scores = cross_val_score(model_random_forest, X_test, y_test,cv=5, n_jobs=1)\n",
    "\n",
    "print (\"Test score is: \\n\", model_random_forest.score(X_test, y_test)) \n",
    "\n",
    "print(\"Cross validation test scores are: \\n\", cross_valid_scores) #return a np.array of each test trill\n",
    "print(\"Cross validation test scores mean is: \\n\", cross_valid_scores.mean()) # mean of all cross validations tests\n",
    "#print(\"Cross validation test prediction is: \\n\", cross_val_predict(model_random_forest, X_test, y_test, cv=5 ))"
   ]
  },
  {
   "cell_type": "code",
   "execution_count": 115,
   "metadata": {},
   "outputs": [
    {
     "name": "stdout",
     "output_type": "stream",
     "text": [
      "Mean squared Error : 0.019184894702\n"
     ]
    }
   ],
   "source": [
    "predictions_1 = model_random_forest.predict(X_test)\n",
    "print(\"Mean squared Error : \" + str(mean_squared_error(y_test,predictions_1)))"
   ]
  },
  {
   "cell_type": "markdown",
   "metadata": {},
   "source": [
    "### KNN:"
   ]
  },
  {
   "cell_type": "code",
   "execution_count": 116,
   "metadata": {},
   "outputs": [],
   "source": [
    "# find best k number\n",
    "\n",
    "ourScore=[]\n",
    "for nn in range(1,15):\n",
    "    knn = neighbors.KNeighborsRegressor(algorithm='auto', leaf_size=30, metric='minkowski',\n",
    "                                        metric_params=None, n_jobs=1, n_neighbors=nn,p=2,\n",
    "                                        weights='uniform')\n",
    "    knn.fit(X_train, y_train)\n",
    "    train_score = knn.score(X_train, y_train)\n",
    "    test_score = knn.score(X_test, y_test)\n",
    "    #print('k: %d, Train Acc: %.3f, Test Acc: %.3f' % (nn, train_score, test_score))\n",
    "    rowScore=[nn,train_score,test_score]\n",
    "    ourScore.append(rowScore)"
   ]
  },
  {
   "cell_type": "code",
   "execution_count": 117,
   "metadata": {},
   "outputs": [
    {
     "name": "stdout",
     "output_type": "stream",
     "text": [
      "Test score is: \n",
      " 0.680137288511\n",
      "Cross validation test scores are: \n",
      " [ 0.77000175  0.71250919  0.63535927  0.63135714  0.52528313]\n",
      "Cross validation test scores mean is: \n",
      " 0.654902095849\n"
     ]
    }
   ],
   "source": [
    "k=5\n",
    "knn = neighbors.KNeighborsRegressor(algorithm='auto', leaf_size=30, metric='minkowski',\n",
    "          metric_params=None, n_jobs=1, n_neighbors=k, p=2,\n",
    "          weights='uniform')\n",
    "knn.fit(X_train, y_train)\n",
    "train_score = knn.score(X_train, y_train)\n",
    "test_score = knn.score(X_test, y_test)\n",
    "cross_valid_scores = cross_val_score(knn, X_test, y_test,cv=5, n_jobs=1)\n",
    "\n",
    "print (\"Test score is: \\n\", knn.score(X_test, y_test)) \n",
    "print(\"Cross validation test scores are: \\n\", cross_valid_scores) #return a np.array of each test trill\n",
    "print(\"Cross validation test scores mean is: \\n\", cross_valid_scores.mean()) # mean of all cross validations tests\n",
    "#print(\"Cross validation test prediction is: \\n\", cross_val_predict(knn, X_test, y_test, cv=5 ))"
   ]
  },
  {
   "cell_type": "code",
   "execution_count": 118,
   "metadata": {},
   "outputs": [
    {
     "name": "stdout",
     "output_type": "stream",
     "text": [
      "Mean squared Error : 0.0494293297457\n"
     ]
    }
   ],
   "source": [
    "predictions_2 = knn.predict(X_test)\n",
    "print(\"Mean squared Error : \" + str(mean_squared_error(y_test,predictions_2)))"
   ]
  },
  {
   "cell_type": "markdown",
   "metadata": {},
   "source": [
    "### Linear Regression:"
   ]
  },
  {
   "cell_type": "code",
   "execution_count": 119,
   "metadata": {},
   "outputs": [
    {
     "name": "stdout",
     "output_type": "stream",
     "text": [
      "Test score is: \n",
      " -345840.431275\n",
      "Cross validation test scores are: \n",
      " [ -7.51624459e+07  -2.32520598e+06  -2.54217721e+08  -8.33177760e+14\n",
      "  -1.75764522e+08]\n",
      "Cross validation test scores mean is: \n",
      " -1.66635653458e+14\n"
     ]
    }
   ],
   "source": [
    "# Linear Regression\n",
    "from sklearn.linear_model import LinearRegression \n",
    "\n",
    "regressor = LinearRegression() \n",
    "regressor.fit(X_train, y_train)\n",
    "\n",
    "# Score model\n",
    "cross_valid_scores = cross_val_score(regressor, X_test, y_test,cv=5, n_jobs=1)\n",
    "\n",
    "print (\"Test score is: \\n\", regressor.score(X_test, y_test)) \n",
    "print(\"Cross validation test scores are: \\n\", cross_valid_scores) #return a np.array of each test trill\n",
    "print(\"Cross validation test scores mean is: \\n\", cross_valid_scores.mean()) # mean of all cross validations tests\n",
    "#print(\"Cross validation test prediction is: \\n\", cross_val_predict(regressor, X_test, y_test, cv=5 ))"
   ]
  },
  {
   "cell_type": "code",
   "execution_count": 120,
   "metadata": {},
   "outputs": [
    {
     "name": "stdout",
     "output_type": "stream",
     "text": [
      "Mean squared Error : 53443.8980607\n"
     ]
    }
   ],
   "source": [
    "predictions_3 = regressor.predict(X_test)\n",
    "print(\"Mean squared Error : \" + str(mean_squared_error(y_test,predictions_3)))"
   ]
  },
  {
   "cell_type": "markdown",
   "metadata": {},
   "source": [
    "### Linear Regression with ridge regularization:"
   ]
  },
  {
   "cell_type": "code",
   "execution_count": 121,
   "metadata": {},
   "outputs": [],
   "source": [
    "#to check what alpha value is better for the model\n",
    "\n",
    "for i in range (-5, 5):\n",
    "    alpha = 10**i\n",
    "    rm = linear_model.Ridge(alpha=alpha)\n",
    "    ridge_model = rm.fit(X_train, y_train)\n",
    "    preds_ridge = ridge_model.predict(X_test)\n",
    "\n",
    "    plt.scatter(preds_ridge, y_test, alpha=.75, color='b')\n",
    "    plt.xlabel('Predicted Price')\n",
    "    plt.ylabel('Actual Price')\n",
    "    plt.title('Ridge Regularization with alpha = {}'.format(alpha))\n",
    "    overlay = 'R^2 is: {}\\nRMSE is: {}'.format(\n",
    "                    ridge_model.score(X_test, y_test),\n",
    "                    mean_squared_error(y_test, preds_ridge))\n",
    "    plt.annotate(s=overlay,xy=(12.1,10.6),size='x-large')\n",
    "    #plt.show()"
   ]
  },
  {
   "cell_type": "code",
   "execution_count": 122,
   "metadata": {},
   "outputs": [
    {
     "name": "stdout",
     "output_type": "stream",
     "text": [
      "Test score is: \n",
      " 0.901239708666\n",
      "Cross validation test scores are: \n",
      " [ 0.90647181  0.90401869  0.88215003  0.87922977  0.84182268]\n",
      "Cross validation test scores mean is: \n",
      " 0.882738595711\n"
     ]
    }
   ],
   "source": [
    "from sklearn.metrics import mean_squared_error\n",
    "\n",
    "linm = linear_model.Ridge(alpha = 10)\n",
    "\n",
    "linm.fit(X_train, y_train)\n",
    "\n",
    "# Score model\n",
    "cross_valid_scores = cross_val_score(linm, X_test, y_test,cv=5, n_jobs=1)\n",
    "\n",
    "print (\"Test score is: \\n\", linm.score(X_test, y_test)) \n",
    "print(\"Cross validation test scores are: \\n\", cross_valid_scores) #return a np.array of each test trill\n",
    "print(\"Cross validation test scores mean is: \\n\", cross_valid_scores.mean()) # mean of all cross validations tests\n",
    "#print(\"Cross validation test prediction is: \\n\", cross_val_predict(linm, X_test, y_test, cv=5 ))"
   ]
  },
  {
   "cell_type": "code",
   "execution_count": 123,
   "metadata": {},
   "outputs": [
    {
     "name": "stdout",
     "output_type": "stream",
     "text": [
      "Mean Squared Error : 0.0152617195777\n"
     ]
    }
   ],
   "source": [
    "predictions = linm.predict(X_test)\n",
    "print(\"Mean Squared Error : \" + str(mean_squared_error(y_test,predictions)))"
   ]
  },
  {
   "cell_type": "markdown",
   "metadata": {},
   "source": [
    "### MLP with PCA:"
   ]
  },
  {
   "cell_type": "code",
   "execution_count": 124,
   "metadata": {},
   "outputs": [],
   "source": [
    "mlp_regressor = MLPRegressor(solver='lbfgs',hidden_layer_sizes = (200,5,5),alpha = 1.0, activation = 'relu', max_iter = 100)\n",
    "#mlp_regressor.fit(X_train1,y_train1)\n",
    "\n",
    "# Score model\n",
    "#cross_valid_scores = cross_val_score(mlp_regressor, X_test, y_test,cv=5, n_jobs=1)\n",
    "\n",
    "#print (\"Test score is: \\n\", mlp_regressor.score(X_test, y_test)) \n",
    "#print(\"Cross validation test scores are: \\n\", cross_valid_scores) #return a np.array of each test trill\n",
    "#print(\"Cross validation test scores mean is: \\n\", cross_valid_scores.mean()) # mean of all cross validations tests\n",
    "#print(\"Cross validation test prediction is: \\n\", cross_val_predict(mlp_regressor, X_test, y_test, cv=5 ))"
   ]
  },
  {
   "cell_type": "code",
   "execution_count": 125,
   "metadata": {},
   "outputs": [],
   "source": [
    "#predictions7 = mlp_regressor.predict(X_test1)\n",
    "#print(\"Mean Squared Error : \" + str(mean_squared_error(y_test1,predictions7)))"
   ]
  },
  {
   "cell_type": "markdown",
   "metadata": {},
   "source": [
    "### SVM:"
   ]
  },
  {
   "cell_type": "code",
   "execution_count": 126,
   "metadata": {},
   "outputs": [
    {
     "name": "stdout",
     "output_type": "stream",
     "text": [
      "Test score is: \n",
      " 0.984626677384\n",
      "Cross validation test scores are: \n",
      " [-0.00696766 -0.01162428 -0.0065101  -0.00469497 -0.01529933]\n",
      "Cross validation test scores mean is: \n",
      " -0.00901926798044\n"
     ]
    }
   ],
   "source": [
    "from sklearn.svm import SVR\n",
    "\n",
    "# SVM\n",
    "svr_model = SVR(kernel='rbf', C=2, epsilon=0.05)\n",
    "svr_model.fit(X, y)\n",
    "\n",
    "# Score model\n",
    "cross_valid_scores = cross_val_score(svr_model, X_test, y_test,cv=5, n_jobs=1)\n",
    "\n",
    "print (\"Test score is: \\n\", svr_model.score(X_test, y_test)) \n",
    "print(\"Cross validation test scores are: \\n\", cross_valid_scores) #return a np.array of each test trill\n",
    "print(\"Cross validation test scores mean is: \\n\", cross_valid_scores.mean()) # mean of all cross validations tests\n",
    "#print(\"Cross validation test prediction is: \\n\", cross_val_predict(svr_model, X_test, y_test, cv=5 ))"
   ]
  },
  {
   "cell_type": "code",
   "execution_count": 127,
   "metadata": {},
   "outputs": [
    {
     "name": "stdout",
     "output_type": "stream",
     "text": [
      "Mean Squared Error : 0.0023756849598\n"
     ]
    }
   ],
   "source": [
    "predictions_8 = svr_model.predict(X_test)\n",
    "print(\"Mean Squared Error : \" + str(mean_squared_error(y_test,predictions_8)))"
   ]
  },
  {
   "cell_type": "markdown",
   "metadata": {},
   "source": [
    "### Basic Decision tree:"
   ]
  },
  {
   "cell_type": "code",
   "execution_count": 128,
   "metadata": {},
   "outputs": [
    {
     "name": "stdout",
     "output_type": "stream",
     "text": [
      "Test score is: \n",
      " 0.999999996944\n",
      "Cross validation test scores are: \n",
      " [ 0.56334312  0.72504334  0.69594589  0.65350629  0.60375484]\n",
      "Cross validation test scores mean is: \n",
      " 0.648318693287\n"
     ]
    }
   ],
   "source": [
    "# Define model\n",
    "basic_decision_tree = DecisionTreeRegressor()\n",
    "\n",
    "# Fit model\n",
    "basic_decision_tree.fit(X, y)\n",
    "\n",
    "# Score model\n",
    "cross_valid_scores = cross_val_score(basic_decision_tree, X_test, y_test,cv=5, n_jobs=1)\n",
    "\n",
    "print (\"Test score is: \\n\", basic_decision_tree.score(X_test, y_test)) \n",
    "print(\"Cross validation test scores are: \\n\", cross_valid_scores) #return a np.array of each test trill\n",
    "print(\"Cross validation test scores mean is: \\n\", cross_valid_scores.mean()) # mean of all cross validations tests\n",
    "#print(\"Cross validation test prediction is: \\n\", cross_val_predict(basic_decision_tree, X_test, y_test, cv=5 ))"
   ]
  },
  {
   "cell_type": "code",
   "execution_count": 129,
   "metadata": {},
   "outputs": [
    {
     "name": "stdout",
     "output_type": "stream",
     "text": [
      "Mean Squared Error : 4.72276373045e-10\n"
     ]
    }
   ],
   "source": [
    "predictions_5 = basic_decision_tree.predict(X_test)\n",
    "print(\"Mean Squared Error : \" + str(mean_squared_error(y_test,predictions_5)))"
   ]
  },
  {
   "cell_type": "markdown",
   "metadata": {},
   "source": [
    "### XGBoost"
   ]
  },
  {
   "cell_type": "code",
   "execution_count": 130,
   "metadata": {},
   "outputs": [],
   "source": [
    "learning_rates = np.arange(0.0, 0.09, 0.0015)\n",
    "learning_rates\n",
    "best_learning_rates = [0.0885, 0.0735, 0.0705, 0.0615, 0.06, 0.0585, 0.057, 0.0555]"
   ]
  },
  {
   "cell_type": "code",
   "execution_count": 131,
   "metadata": {},
   "outputs": [],
   "source": [
    "# to find best parameters\n",
    "from xgboost import XGBRegressor\n",
    "\n",
    "actual_values = y_test\n",
    "\n",
    "for i in best_learning_rates:\n",
    "    n_estimators = 1000\n",
    "    my_model = XGBRegressor(n_estimators=n_estimators,learning_rate=i)\n",
    "    xgboost_model = my_model.fit(X_train, y_train, early_stopping_rounds=5, \n",
    "                 eval_set=[(X_test, y_test)], verbose=False)\n",
    "    preds_xgboost = xgboost_model.predict(X_test)\n",
    "\n",
    "    plt.scatter(preds_xgboost, actual_values, alpha=.75, color='b')\n",
    "    plt.xlabel('Predicted Price')\n",
    "    plt.ylabel('Actual Price')\n",
    "    plt.title('XGBoost with  = {}'.format(n_estimators))\n",
    "    overlay = 'R^2 is: {}\\nRMSE is: {}\\nlearning Rate is: {}'.format(\n",
    "                        xgboost_model.score(X_test, y_test),\n",
    "                        mean_squared_error(y_test, preds_xgboost),\n",
    "                        i)\n",
    "    plt.annotate(s=overlay,xy=(12.1,10.6),size='x-large')\n",
    "    #plt.show()"
   ]
  },
  {
   "cell_type": "code",
   "execution_count": 132,
   "metadata": {},
   "outputs": [
    {
     "name": "stdout",
     "output_type": "stream",
     "text": [
      "Test score is: \n",
      " 0.905846405165\n",
      "Cross validation test scores are: \n",
      " [ 0.8728141   0.90323918  0.84306822  0.8939824   0.81593535]\n",
      "Cross validation test scores mean is: \n",
      " 0.865807852417\n"
     ]
    }
   ],
   "source": [
    "# XGBoost\n",
    "XGBoost = XGBRegressor(n_estimators = 1000,learning_rate=0.0585)\n",
    "XGBoost.fit(X_train, y_train)\n",
    "\n",
    "# Score model\n",
    "cross_valid_scores = cross_val_score(XGBoost, X_test, y_test,cv=5, n_jobs=1)\n",
    "\n",
    "print (\"Test score is: \\n\", XGBoost.score(X_test, y_test)) \n",
    "print(\"Cross validation test scores are: \\n\", cross_valid_scores) #return a np.array of each test trill\n",
    "print(\"Cross validation test scores mean is: \\n\", cross_valid_scores.mean()) # mean of all cross validations tests\n",
    "#print(\"Cross validation test prediction is: \\n\", cross_val_predict(XGBoost, X_test, y_test, cv=5 ))"
   ]
  },
  {
   "cell_type": "code",
   "execution_count": 133,
   "metadata": {},
   "outputs": [
    {
     "name": "stdout",
     "output_type": "stream",
     "text": [
      "Mean squared Error : 0.0145498331587\n"
     ]
    }
   ],
   "source": [
    "prediction = XGBoost.predict(X_test)\n",
    "print(\"Mean squared Error : \" + str(mean_squared_error(y_test,prediction)))"
   ]
  },
  {
   "cell_type": "markdown",
   "metadata": {},
   "source": [
    "### Lasso regression:"
   ]
  },
  {
   "cell_type": "code",
   "execution_count": 134,
   "metadata": {},
   "outputs": [
    {
     "name": "stdout",
     "output_type": "stream",
     "text": [
      "Test score is: \n",
      " 0.904965675904\n",
      "Cross validation test scores are: \n",
      " [ 0.9097912   0.911444    0.8775565   0.8667184   0.85165889]\n",
      "Cross validation test scores mean is: \n",
      " 0.883433798795\n"
     ]
    }
   ],
   "source": [
    "# Lasso regression\n",
    "lasso = make_pipeline(RobustScaler(), Lasso(alpha =0.0005, random_state=1))\n",
    "lasso.fit(X_train, y_train)\n",
    "# Score model\n",
    "cross_valid_scores = cross_val_score(lasso, X_test, y_test,cv=5, n_jobs=1)\n",
    "\n",
    "print (\"Test score is: \\n\", lasso.score(X_test, y_test)) \n",
    "print(\"Cross validation test scores are: \\n\", cross_valid_scores) #return a np.array of each test trill\n",
    "print(\"Cross validation test scores mean is: \\n\", cross_valid_scores.mean()) # mean of all cross validations tests\n",
    "#print(\"Cross validation test prediction is: \\n\", cross_val_predict(lasso, X_test, y_test, cv=5 ))"
   ]
  },
  {
   "cell_type": "code",
   "execution_count": 135,
   "metadata": {},
   "outputs": [
    {
     "name": "stdout",
     "output_type": "stream",
     "text": [
      "Mean squared Error : 0.0146859348533\n"
     ]
    }
   ],
   "source": [
    "predictions_lasso = lasso.predict(X_test)\n",
    "print(\"Mean squared Error : \" + str(mean_squared_error(y_test,predictions_lasso)))"
   ]
  },
  {
   "cell_type": "markdown",
   "metadata": {},
   "source": [
    "### Elastic Net Regression:"
   ]
  },
  {
   "cell_type": "code",
   "execution_count": 136,
   "metadata": {},
   "outputs": [
    {
     "name": "stdout",
     "output_type": "stream",
     "text": [
      "Test score is: \n",
      " 0.90495230902\n",
      "Cross validation test scores are: \n",
      " [ 0.90871428  0.91066253  0.87583394  0.86303148  0.8514074 ]\n",
      "Cross validation test scores mean is: \n",
      " 0.881929926572\n"
     ]
    }
   ],
   "source": [
    "# Elastic Net regression\n",
    "ENet = make_pipeline(RobustScaler(), ElasticNet(alpha=0.0005, l1_ratio=.9, random_state=3))\n",
    "ENet.fit(X_train, y_train)\n",
    "# Score model\n",
    "cross_valid_scores = cross_val_score(ENet, X_test, y_test,cv=5, n_jobs=1)\n",
    "\n",
    "print (\"Test score is: \\n\", ENet.score(X_test, y_test)) \n",
    "print(\"Cross validation test scores are: \\n\", cross_valid_scores) #return a np.array of each test trill\n",
    "print(\"Cross validation test scores mean is: \\n\", cross_valid_scores.mean()) # mean of all cross validations tests\n",
    "#print(\"Cross validation test prediction is: \\n\", cross_val_predict(ENet, X_test, y_test, cv=5 ))"
   ]
  },
  {
   "cell_type": "code",
   "execution_count": 137,
   "metadata": {},
   "outputs": [
    {
     "name": "stdout",
     "output_type": "stream",
     "text": [
      "Mean squared Error : 0.0146880004772\n"
     ]
    }
   ],
   "source": [
    "predictions_ENet = ENet.predict(X_test)\n",
    "print(\"Mean squared Error : \" + str(mean_squared_error(y_test,predictions_ENet)))"
   ]
  },
  {
   "cell_type": "markdown",
   "metadata": {},
   "source": [
    "### Gradient Boosting Regression:"
   ]
  },
  {
   "cell_type": "code",
   "execution_count": 138,
   "metadata": {},
   "outputs": [
    {
     "name": "stdout",
     "output_type": "stream",
     "text": [
      "Test score is: \n",
      " 0.900061935524\n",
      "Cross validation test scores are: \n",
      " [ 0.87968122  0.8804556   0.85831129  0.90637986  0.80641654]\n",
      "Cross validation test scores mean is: \n",
      " 0.866248902207\n"
     ]
    }
   ],
   "source": [
    "# Gradient boosting regression\n",
    "GBoost = GradientBoostingRegressor(n_estimators=3000, learning_rate=0.05,\n",
    "                                   max_depth=4, max_features='sqrt',\n",
    "                                   min_samples_leaf=15, min_samples_split=10, \n",
    "                                   loss='huber', random_state =5)\n",
    "\n",
    "GBoost.fit(X_train, y_train)\n",
    "# Score model\n",
    "cross_valid_scores = cross_val_score(GBoost, X_test, y_test,cv=5, n_jobs=1)\n",
    "\n",
    "print (\"Test score is: \\n\", GBoost.score(X_test, y_test)) \n",
    "print(\"Cross validation test scores are: \\n\", cross_valid_scores) #return a np.array of each test trill\n",
    "print(\"Cross validation test scores mean is: \\n\", cross_valid_scores.mean()) # mean of all cross validations tests\n",
    "#print(\"Cross validation test prediction is: \\n\", cross_val_predict(GBoost, X_test, y_test, cv=5 ))"
   ]
  },
  {
   "cell_type": "code",
   "execution_count": 139,
   "metadata": {},
   "outputs": [
    {
     "name": "stdout",
     "output_type": "stream",
     "text": [
      "Mean squared Error : 0.0154437243408\n"
     ]
    }
   ],
   "source": [
    "predictions_GBoost = GBoost.predict(X_test)\n",
    "print(\"Mean squared Error : \" + str(mean_squared_error(y_test,predictions_GBoost)))"
   ]
  },
  {
   "cell_type": "markdown",
   "metadata": {},
   "source": [
    "### Light GBM:"
   ]
  },
  {
   "cell_type": "code",
   "execution_count": 140,
   "metadata": {},
   "outputs": [
    {
     "name": "stdout",
     "output_type": "stream",
     "text": [
      "Test score is: \n",
      " 0.902791193686\n",
      "Cross validation test scores are: \n",
      " [ 0.86630833  0.88846564  0.86431452  0.88149719  0.80869944]\n",
      "Cross validation test scores mean is: \n",
      " 0.861857025353\n"
     ]
    }
   ],
   "source": [
    "# LightGBM\n",
    "model_lgb = lgb.LGBMRegressor(objective='regression',num_leaves=5,\n",
    "                              learning_rate=0.05, n_estimators=720,\n",
    "                              max_bin = 55, bagging_fraction = 0.8,\n",
    "                              bagging_freq = 5, feature_fraction = 0.2319,\n",
    "                              feature_fraction_seed=9, bagging_seed=9,\n",
    "                              min_data_in_leaf =6, min_sum_hessian_in_leaf = 11)\n",
    "model_lgb.fit(X_train, y_train)\n",
    "# Score model\n",
    "cross_valid_scores = cross_val_score(model_lgb, X_test, y_test,cv=5, n_jobs=1)\n",
    "\n",
    "print (\"Test score is: \\n\", model_lgb.score(X_test, y_test)) \n",
    "print(\"Cross validation test scores are: \\n\", cross_valid_scores) #return a np.array of each test trill\n",
    "print(\"Cross validation test scores mean is: \\n\", cross_valid_scores.mean()) # mean of all cross validations tests\n",
    "#print(\"Cross validation test prediction is: \\n\", cross_val_predict(model_lgb, X_test, y_test, cv=5 ))"
   ]
  },
  {
   "cell_type": "code",
   "execution_count": 141,
   "metadata": {},
   "outputs": [
    {
     "name": "stdout",
     "output_type": "stream",
     "text": [
      "Mean squared Error : 0.0150219640142\n"
     ]
    }
   ],
   "source": [
    "predictions_model_lgb = model_lgb.predict(X_test)\n",
    "print(\"Mean squared Error : \" + str(mean_squared_error(y_test,predictions_model_lgb)))"
   ]
  },
  {
   "cell_type": "markdown",
   "metadata": {},
   "source": [
    "### AdaBoost:"
   ]
  },
  {
   "cell_type": "code",
   "execution_count": 152,
   "metadata": {},
   "outputs": [
    {
     "name": "stdout",
     "output_type": "stream",
     "text": [
      "Test score is: \n",
      " 0.841973305734\n",
      "Cross validation test scores are: \n",
      " [ 0.81137849  0.85855711  0.77033045  0.83148453  0.67782507]\n",
      "Cross validation test scores mean is: \n",
      " 0.78991512951\n"
     ]
    }
   ],
   "source": [
    "from sklearn.ensemble import AdaBoostRegressor\n",
    "\n",
    "ada_boost = AdaBoostRegressor(n_estimators=100)\n",
    "ada_boost.fit(X_train, y_train)\n",
    "# Score model\n",
    "cross_valid_scores = cross_val_score(ada_boost, X_test, y_test,cv=5, n_jobs=1)\n",
    "\n",
    "print (\"Test score is: \\n\", ada_boost.score(X_test, y_test)) \n",
    "print(\"Cross validation test scores are: \\n\", cross_valid_scores) #return a np.array of each test trill\n",
    "print(\"Cross validation test scores mean is: \\n\", cross_valid_scores.mean()) # mean of all cross validations tests\n",
    "#print(\"Cross validation test prediction is: \\n\", cross_val_predict(model_lgb, X_test, y_test, cv=5 ))"
   ]
  },
  {
   "cell_type": "markdown",
   "metadata": {},
   "source": [
    "### Avereging Models:"
   ]
  },
  {
   "cell_type": "code",
   "execution_count": 142,
   "metadata": {},
   "outputs": [],
   "source": [
    "from sklearn.base import BaseEstimator, TransformerMixin, RegressorMixin, clone\n",
    "\n",
    "\n",
    "class AveragingModels(BaseEstimator, RegressorMixin, TransformerMixin):\n",
    "    def __init__(self, models):\n",
    "        self.models = models\n",
    "        \n",
    "    # we define clones of the original models to fit the data in\n",
    "    def fit(self, X, y):\n",
    "        self.models_ = [clone(x) for x in self.models]\n",
    "        \n",
    "        # Train cloned base models\n",
    "        for model in self.models_:\n",
    "            model.fit(X, y)\n",
    "\n",
    "        return self\n",
    "    \n",
    "    #Now we do the predictions for cloned models and average them\n",
    "    def predict(self, X):\n",
    "        predictions = np.column_stack([\n",
    "            model.predict(X) for model in self.models_\n",
    "        ])\n",
    "        return np.mean(predictions, axis=1)   "
   ]
  },
  {
   "cell_type": "markdown",
   "metadata": {},
   "source": [
    "### Enet regression + GBoost + LGBM + Lasso regression (Best Score):"
   ]
  },
  {
   "cell_type": "code",
   "execution_count": 143,
   "metadata": {},
   "outputs": [
    {
     "name": "stdout",
     "output_type": "stream",
     "text": [
      "Test Score: \n",
      " 0.910253536225\n",
      "Cross validation test scores are: \n",
      " [ 0.86630833  0.88846564  0.86431452  0.88149719  0.80869944]\n",
      "Cross validation test scores mean is: \n",
      " 0.861857025353\n"
     ]
    }
   ],
   "source": [
    "#Best version\n",
    "averaged_models = AveragingModels(models = (ENet, GBoost, model_lgb, lasso))\n",
    "\n",
    "averaged_models.fit(X_train, y_train)\n",
    "print (\"Test Score: \\n\", averaged_models.score(X_test, y_test))\n",
    "print(\"Cross validation test scores are: \\n\", cross_valid_scores) #return a np.array of each test trill\n",
    "print(\"Cross validation test scores mean is: \\n\", cross_valid_scores.mean())"
   ]
  },
  {
   "cell_type": "code",
   "execution_count": 144,
   "metadata": {},
   "outputs": [],
   "source": [
    "### Ridge LR + XGBoost + "
   ]
  },
  {
   "cell_type": "code",
   "execution_count": 145,
   "metadata": {},
   "outputs": [
    {
     "name": "stdout",
     "output_type": "stream",
     "text": [
      "Test Score: \n",
      " 0.911361191946\n",
      "Cross validation test scores are: \n",
      " [ 0.86630833  0.88846564  0.86431452  0.88149719  0.80869944]\n",
      "Cross validation test scores mean is: \n",
      " 0.861857025353\n"
     ]
    }
   ],
   "source": [
    "#Best version\n",
    "averaged_models_1 = AveragingModels(models = (linm, XGBoost, model_lgb, lasso))\n",
    "\n",
    "averaged_models_1.fit(X_train, y_train)\n",
    "print (\"Test Score: \\n\", averaged_models_1.score(X_test, y_test))\n",
    "print(\"Cross validation test scores are: \\n\", cross_valid_scores) #return a np.array of each test trill\n",
    "print(\"Cross validation test scores mean is: \\n\", cross_valid_scores.mean())"
   ]
  },
  {
   "cell_type": "code",
   "execution_count": 146,
   "metadata": {},
   "outputs": [
    {
     "name": "stdout",
     "output_type": "stream",
     "text": [
      "Mean squared Error : 0.0136976168656\n"
     ]
    }
   ],
   "source": [
    "predictions = averaged_models_1.predict(X_test)\n",
    "print(\"Mean squared Error : \" + str(mean_squared_error(y_test,predictions)))"
   ]
  },
  {
   "cell_type": "markdown",
   "metadata": {},
   "source": [
    "### Making a submission"
   ]
  },
  {
   "cell_type": "code",
   "execution_count": 147,
   "metadata": {},
   "outputs": [],
   "source": [
    "submission = pd.DataFrame()\n",
    "%store -r test_ID\n",
    "submission['Id'] = test_ID"
   ]
  },
  {
   "cell_type": "code",
   "execution_count": 148,
   "metadata": {},
   "outputs": [
    {
     "data": {
      "text/plain": [
       "(1459, 291)"
      ]
     },
     "execution_count": 148,
     "metadata": {},
     "output_type": "execute_result"
    }
   ],
   "source": [
    "feats = test_set.select_dtypes(\n",
    "        include=[np.number]).interpolate()\n",
    "feats.shape"
   ]
  },
  {
   "cell_type": "code",
   "execution_count": 149,
   "metadata": {},
   "outputs": [],
   "source": [
    "predictions = averaged_models_1.predict(feats)\n",
    "final_predictions = np.exp(predictions)"
   ]
  },
  {
   "cell_type": "code",
   "execution_count": 150,
   "metadata": {},
   "outputs": [
    {
     "data": {
      "text/html": [
       "<div>\n",
       "<style>\n",
       "    .dataframe thead tr:only-child th {\n",
       "        text-align: right;\n",
       "    }\n",
       "\n",
       "    .dataframe thead th {\n",
       "        text-align: left;\n",
       "    }\n",
       "\n",
       "    .dataframe tbody tr th {\n",
       "        vertical-align: top;\n",
       "    }\n",
       "</style>\n",
       "<table border=\"1\" class=\"dataframe\">\n",
       "  <thead>\n",
       "    <tr style=\"text-align: right;\">\n",
       "      <th></th>\n",
       "      <th>Id</th>\n",
       "      <th>SalePrice</th>\n",
       "    </tr>\n",
       "  </thead>\n",
       "  <tbody>\n",
       "    <tr>\n",
       "      <th>0</th>\n",
       "      <td>1461</td>\n",
       "      <td>119362.363249</td>\n",
       "    </tr>\n",
       "    <tr>\n",
       "      <th>1</th>\n",
       "      <td>1462</td>\n",
       "      <td>137190.902649</td>\n",
       "    </tr>\n",
       "    <tr>\n",
       "      <th>2</th>\n",
       "      <td>1463</td>\n",
       "      <td>184790.952414</td>\n",
       "    </tr>\n",
       "    <tr>\n",
       "      <th>3</th>\n",
       "      <td>1464</td>\n",
       "      <td>194707.129109</td>\n",
       "    </tr>\n",
       "    <tr>\n",
       "      <th>4</th>\n",
       "      <td>1465</td>\n",
       "      <td>188869.410467</td>\n",
       "    </tr>\n",
       "    <tr>\n",
       "      <th>5</th>\n",
       "      <td>1466</td>\n",
       "      <td>171158.002981</td>\n",
       "    </tr>\n",
       "    <tr>\n",
       "      <th>6</th>\n",
       "      <td>1467</td>\n",
       "      <td>176501.323929</td>\n",
       "    </tr>\n",
       "    <tr>\n",
       "      <th>7</th>\n",
       "      <td>1468</td>\n",
       "      <td>165348.480997</td>\n",
       "    </tr>\n",
       "    <tr>\n",
       "      <th>8</th>\n",
       "      <td>1469</td>\n",
       "      <td>187015.501099</td>\n",
       "    </tr>\n",
       "    <tr>\n",
       "      <th>9</th>\n",
       "      <td>1470</td>\n",
       "      <td>120568.067025</td>\n",
       "    </tr>\n",
       "  </tbody>\n",
       "</table>\n",
       "</div>"
      ],
      "text/plain": [
       "     Id      SalePrice\n",
       "0  1461  119362.363249\n",
       "1  1462  137190.902649\n",
       "2  1463  184790.952414\n",
       "3  1464  194707.129109\n",
       "4  1465  188869.410467\n",
       "5  1466  171158.002981\n",
       "6  1467  176501.323929\n",
       "7  1468  165348.480997\n",
       "8  1469  187015.501099\n",
       "9  1470  120568.067025"
      ]
     },
     "execution_count": 150,
     "metadata": {},
     "output_type": "execute_result"
    }
   ],
   "source": [
    "submission['SalePrice'] = final_predictions\n",
    "submission.head(10)"
   ]
  },
  {
   "cell_type": "code",
   "execution_count": 151,
   "metadata": {},
   "outputs": [],
   "source": [
    "submission.to_csv(\"new_avereged_submission.csv\", index=False)"
   ]
  }
 ],
 "metadata": {
  "kernelspec": {
   "display_name": "Python 3",
   "language": "python",
   "name": "python3"
  },
  "language_info": {
   "codemirror_mode": {
    "name": "ipython",
    "version": 3
   },
   "file_extension": ".py",
   "mimetype": "text/x-python",
   "name": "python",
   "nbconvert_exporter": "python",
   "pygments_lexer": "ipython3",
   "version": "3.6.3"
  }
 },
 "nbformat": 4,
 "nbformat_minor": 2
}
